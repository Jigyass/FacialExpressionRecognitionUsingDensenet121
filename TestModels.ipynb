{
 "cells": [
  {
   "cell_type": "code",
   "execution_count": 6,
   "id": "237d3fc3-a0ff-491a-b48b-fe91dd3d1a33",
   "metadata": {},
   "outputs": [],
   "source": [
    "import tensorflow as tf\n",
    "from tensorflow.keras.models import load_model\n",
    "import numpy as np\n",
    "from tensorflow.keras.preprocessing.image import ImageDataGenerator\n",
    "\n",
    "model = load_model('/home/darksst/Desktop/FacialExpressionRecognitionUsingDensenet121/MODELS/FINALDense.keras')"
   ]
  },
  {
   "cell_type": "code",
   "execution_count": 7,
   "id": "c54fc3b5-865a-4218-8957-f3dfda0237bb",
   "metadata": {},
   "outputs": [
    {
     "name": "stdout",
     "output_type": "stream",
     "text": [
      "Found 5155 images belonging to 7 classes.\n"
     ]
    },
    {
     "name": "stderr",
     "output_type": "stream",
     "text": [
      "2024-05-02 23:08:25.985982: I external/local_xla/xla/stream_executor/cuda/cuda_dnn.cc:454] Loaded cuDNN version 8902\n"
     ]
    },
    {
     "name": "stdout",
     "output_type": "stream",
     "text": [
      "5155/5155 [==============================] - 55s 10ms/step\n",
      "Accuracy: 87.41%\n"
     ]
    }
   ],
   "source": [
    "test_datagen = ImageDataGenerator(rescale=1./255) \n",
    "test_generator = test_datagen.flow_from_directory(\n",
    "    '/home/darksst/Desktop/FinalProject/project_1_dataset/test',\n",
    "    target_size=(48, 48),\n",
    "    batch_size=1,\n",
    "    color_mode='grayscale',\n",
    "    class_mode='categorical',  \n",
    "    shuffle=False)\n",
    "\n",
    "predictions = model.predict(test_generator, steps=np.ceil(test_generator.samples/test_generator.batch_size))\n",
    "\n",
    "predicted_classes = np.argmax(predictions, axis=1)\n",
    "\n",
    "true_classes = test_generator.classes\n",
    "\n",
    "accuracy = np.mean(predicted_classes == true_classes)\n",
    "print(f'Accuracy: {accuracy * 100:.2f}%')"
   ]
  },
  {
   "cell_type": "code",
   "execution_count": null,
   "id": "b8dc1344-85c8-47b6-b322-0ecd5c850f9d",
   "metadata": {},
   "outputs": [],
   "source": []
  }
 ],
 "metadata": {
  "kernelspec": {
   "display_name": "Python 3 (ipykernel)",
   "language": "python",
   "name": "python3"
  },
  "language_info": {
   "codemirror_mode": {
    "name": "ipython",
    "version": 3
   },
   "file_extension": ".py",
   "mimetype": "text/x-python",
   "name": "python",
   "nbconvert_exporter": "python",
   "pygments_lexer": "ipython3",
   "version": "3.10.12"
  }
 },
 "nbformat": 4,
 "nbformat_minor": 5
}
